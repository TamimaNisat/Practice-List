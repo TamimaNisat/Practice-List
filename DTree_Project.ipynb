{
 "cells": [
  {
   "cell_type": "code",
   "execution_count": 101,
   "metadata": {},
   "outputs": [],
   "source": [
    "import pandas as pd\n",
    "import numpy as np\n",
    "import matplotlib.pyplot as plt\n",
    "import seaborn as sns\n"
   ]
  },
  {
   "cell_type": "markdown",
   "metadata": {},
   "source": [
    "### Reading the data file in df"
   ]
  },
  {
   "cell_type": "markdown",
   "metadata": {},
   "source": [
    "**Read the csv data file and disply its head**"
   ]
  },
  {
   "cell_type": "code",
   "execution_count": 103,
   "metadata": {},
   "outputs": [
    {
     "name": "stdout",
     "output_type": "stream",
     "text": [
      "   BI-RADS  Age  Shape  Margin  Density  Target\n",
      "0        5   67      3       5        3       1\n",
      "1        5   58      4       5        3       1\n",
      "2        4   28      1       1        3       0\n",
      "3        5   57      1       5        3       1\n",
      "4        5   76      1       4        3       1\n"
     ]
    }
   ],
   "source": [
    "# Code here please\n",
    "df = pd.read_csv(\"mammographic_masses_data_clean.csv\")\n",
    "print(df.head())\n"
   ]
  },
  {
   "cell_type": "code",
   "execution_count": null,
   "metadata": {},
   "outputs": [],
   "source": []
  },
  {
   "cell_type": "markdown",
   "metadata": {
    "scrolled": true
   },
   "source": [
    "**How many data entries you have?**"
   ]
  },
  {
   "cell_type": "code",
   "execution_count": 105,
   "metadata": {},
   "outputs": [
    {
     "name": "stdout",
     "output_type": "stream",
     "text": [
      "<class 'pandas.core.frame.DataFrame'>\n",
      "RangeIndex: 830 entries, 0 to 829\n",
      "Data columns (total 6 columns):\n",
      " #   Column   Non-Null Count  Dtype\n",
      "---  ------   --------------  -----\n",
      " 0   BI-RADS  830 non-null    int64\n",
      " 1   Age      830 non-null    int64\n",
      " 2   Shape    830 non-null    int64\n",
      " 3   Margin   830 non-null    int64\n",
      " 4   Density  830 non-null    int64\n",
      " 5   Target   830 non-null    int64\n",
      "dtypes: int64(6)\n",
      "memory usage: 39.0 KB\n",
      "None\n"
     ]
    }
   ],
   "source": [
    "# Code here please\n",
    "print(df.info())  # This will show the number of entries\n"
   ]
  },
  {
   "cell_type": "code",
   "execution_count": null,
   "metadata": {},
   "outputs": [],
   "source": []
  },
  {
   "cell_type": "markdown",
   "metadata": {},
   "source": [
    "**Which type of cancer is common?**"
   ]
  },
  {
   "cell_type": "code",
   "execution_count": 107,
   "metadata": {},
   "outputs": [
    {
     "name": "stdout",
     "output_type": "stream",
     "text": [
      "Target\n",
      "0    427\n",
      "1    403\n",
      "Name: count, dtype: int64\n"
     ]
    }
   ],
   "source": [
    "# Code here please\n",
    "print(df['Target'].value_counts())  # Count of each type of cancer\n"
   ]
  },
  {
   "cell_type": "code",
   "execution_count": null,
   "metadata": {},
   "outputs": [],
   "source": []
  },
  {
   "cell_type": "markdown",
   "metadata": {},
   "source": [
    "**Reproduce the output to show some statistics**"
   ]
  },
  {
   "cell_type": "code",
   "execution_count": 109,
   "metadata": {},
   "outputs": [
    {
     "name": "stdout",
     "output_type": "stream",
     "text": [
      "          BI-RADS         Age       Shape      Margin     Density      Target\n",
      "count  830.000000  830.000000  830.000000  830.000000  830.000000  830.000000\n",
      "mean     4.393976   55.781928    2.781928    2.813253    2.915663    0.485542\n",
      "std      1.888371   14.671782    1.242361    1.567175    0.350936    0.500092\n",
      "min      0.000000   18.000000    1.000000    1.000000    1.000000    0.000000\n",
      "25%      4.000000   46.000000    2.000000    1.000000    3.000000    0.000000\n",
      "50%      4.000000   57.000000    3.000000    3.000000    3.000000    0.000000\n",
      "75%      5.000000   66.000000    4.000000    4.000000    3.000000    1.000000\n",
      "max     55.000000   96.000000    4.000000    5.000000    4.000000    1.000000\n"
     ]
    }
   ],
   "source": [
    "# Code here please\n",
    "print(df.describe())  # General statistics of the dataset\n"
   ]
  },
  {
   "cell_type": "code",
   "execution_count": null,
   "metadata": {},
   "outputs": [],
   "source": []
  },
  {
   "cell_type": "markdown",
   "metadata": {},
   "source": [
    "** Do the Train Test Split** using test size 0.3 "
   ]
  },
  {
   "cell_type": "code",
   "execution_count": 111,
   "metadata": {},
   "outputs": [],
   "source": [
    "# Code here please\n",
    "from sklearn.model_selection import train_test_split\n",
    "\n",
    "X = df.drop('Target', axis=1)\n",
    "y = df['Target']\n",
    "\n",
    "X_train, X_test, y_train, y_test = train_test_split(X, y, test_size=0.3, random_state=42)\n"
   ]
  },
  {
   "cell_type": "code",
   "execution_count": 15,
   "metadata": {
    "collapsed": true,
    "jupyter": {
     "outputs_hidden": true
    }
   },
   "outputs": [],
   "source": [
    "# Code here please"
   ]
  },
  {
   "cell_type": "code",
   "execution_count": 16,
   "metadata": {
    "collapsed": true,
    "jupyter": {
     "outputs_hidden": true
    }
   },
   "outputs": [],
   "source": [
    "# Code here please"
   ]
  },
  {
   "cell_type": "code",
   "execution_count": 17,
   "metadata": {
    "collapsed": true,
    "jupyter": {
     "outputs_hidden": true
    }
   },
   "outputs": [],
   "source": []
  },
  {
   "cell_type": "markdown",
   "metadata": {
    "collapsed": true,
    "jupyter": {
     "outputs_hidden": true
    }
   },
   "source": [
    "### Decision Tree\n",
    "**Importing decision tree classifier and create its instance**"
   ]
  },
  {
   "cell_type": "code",
   "execution_count": 73,
   "metadata": {},
   "outputs": [],
   "source": [
    "from sklearn.tree import DecisionTreeClassifier\n",
    "\n",
    "\n"
   ]
  },
  {
   "cell_type": "code",
   "execution_count": null,
   "metadata": {},
   "outputs": [],
   "source": []
  },
  {
   "cell_type": "markdown",
   "metadata": {
    "collapsed": true,
    "jupyter": {
     "outputs_hidden": true
    }
   },
   "source": [
    "**Fit the training data to the model**"
   ]
  },
  {
   "cell_type": "code",
   "execution_count": 75,
   "metadata": {},
   "outputs": [
    {
     "name": "stdout",
     "output_type": "stream",
     "text": [
      "DecisionTreeClassifier()\n"
     ]
    }
   ],
   "source": [
    "# Code here please\n",
    "\n",
    "# Initialize the model\n",
    "dt = DecisionTreeClassifier(criterion='gini', max_depth=None, max_features=None,\n",
    "                            max_leaf_nodes=None, min_samples_leaf=1, \n",
    "                            min_samples_split=2, min_weight_fraction_leaf=0.0,\n",
    "                            random_state=None, splitter='best')\n",
    "\n",
    "# Fit the model with training data\n",
    "dt.fit(X_train, y_train)\n",
    "\n",
    "# Display the model parameters after fitting\n",
    "print(dt)\n",
    "\n"
   ]
  },
  {
   "cell_type": "code",
   "execution_count": null,
   "metadata": {
    "scrolled": true
   },
   "outputs": [],
   "source": []
  },
  {
   "cell_type": "markdown",
   "metadata": {},
   "source": [
    "**What is the Score of the model?**"
   ]
  },
  {
   "cell_type": "code",
   "execution_count": 45,
   "metadata": {},
   "outputs": [
    {
     "name": "stdout",
     "output_type": "stream",
     "text": [
      "Model Score: 0.7590361445783133\n"
     ]
    }
   ],
   "source": [
    "# Code here please\n",
    "score = dt.score(X_test, y_test)\n",
    "print(f\"Model Score: {score}\")\n"
   ]
  },
  {
   "cell_type": "code",
   "execution_count": null,
   "metadata": {},
   "outputs": [],
   "source": []
  }
 ],
 "metadata": {
  "kernelspec": {
   "display_name": "Python 3 (ipykernel)",
   "language": "python",
   "name": "python3"
  },
  "language_info": {
   "codemirror_mode": {
    "name": "ipython",
    "version": 3
   },
   "file_extension": ".py",
   "mimetype": "text/x-python",
   "name": "python",
   "nbconvert_exporter": "python",
   "pygments_lexer": "ipython3",
   "version": "3.12.4"
  }
 },
 "nbformat": 4,
 "nbformat_minor": 4
}
